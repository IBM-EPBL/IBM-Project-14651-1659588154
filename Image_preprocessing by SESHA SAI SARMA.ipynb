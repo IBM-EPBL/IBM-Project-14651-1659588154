{
  "nbformat": 4,
  "nbformat_minor": 0,
  "metadata": {
    "colab": {
      "provenance": []
    },
    "kernelspec": {
      "name": "python3",
      "display_name": "Python 3"
    },
    "language_info": {
      "name": "python"
    }
  },
  "cells": [
    {
      "cell_type": "code",
      "execution_count": 1,
      "metadata": {
        "id": "jqOjQG2He8fT"
      },
      "outputs": [],
      "source": [
        "from keras.preprocessing.image import ImageDataGenerator \n",
        "train_datagen = ImageDataGenerator(rescale = 1./255, shear_range= 0.2,zoom_range= 0.2, horizontal_flip = True) \n",
        "test_datagen =ImageDataGenerator(rescale=1)\n"
      ]
    },
    {
      "cell_type": "code",
      "source": [
        "tagen.flow_from_directory(r'C:\\Users\\arun\\Desktop\\dataset\\train',target_size = (64,64), batch_size = 32, class_mode ='categorical')\n",
        "x_test = test_datagen.flow_from_directory(r'C:\\Users\\arun\\Desktop\\dataset\\test',target_size = (64,64), batch_size = 32, class_mode ='categorical')"
      ],
      "metadata": {
        "id": "dV7BZJw6fA2P"
      },
      "execution_count": null,
      "outputs": []
    }
  ]
}